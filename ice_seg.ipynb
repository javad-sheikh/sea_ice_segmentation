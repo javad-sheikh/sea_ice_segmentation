{
 "cells": [
  {
   "cell_type": "markdown",
   "metadata": {},
   "source": [
    "# Sea ice segmentation code using fastai v2"
   ]
  },
  {
   "cell_type": "code",
   "execution_count": null,
   "metadata": {
    "ExecuteTime": {
     "end_time": "2022-02-07T11:16:49.369428Z",
     "start_time": "2022-02-07T11:16:49.282863Z"
    }
   },
   "outputs": [],
   "source": [
    "%load_ext autoreload\n",
    "%autoreload 2"
   ]
  },
  {
   "cell_type": "markdown",
   "metadata": {},
   "source": [
    "Install Fastai: \n",
    "\n",
    "- Create a conda environment\n",
    "- Install fastai using ```conda install -c fastchan fastai anaconda```\n",
    "- For help with installation: https://docs.fast.ai/#Installing"
   ]
  },
  {
   "cell_type": "code",
   "execution_count": null,
   "metadata": {
    "ExecuteTime": {
     "end_time": "2022-02-07T11:16:58.179857Z",
     "start_time": "2022-02-07T11:16:57.439383Z"
    }
   },
   "outputs": [],
   "source": [
    "from fastai.vision.all import *\n",
    "from metrics import *"
   ]
  },
  {
   "cell_type": "code",
   "execution_count": null,
   "metadata": {
    "ExecuteTime": {
     "end_time": "2022-02-07T11:16:59.247186Z",
     "start_time": "2022-02-07T11:16:59.152359Z"
    }
   },
   "outputs": [],
   "source": [
    "path = Path('../data/ice_image_data')\n",
    "\n",
    "codes = ['Iceberg', 'Floe berg', 'Floe bit', 'Open water', 'Melt pond',\n",
    "       'Level ice', 'Deformed ice', 'Ice floe', 'Pancake ice',\n",
    "       'Underwater ice', 'Broken ice', 'Brash ice', 'Shore', 'Sky']\n"
   ]
  },
  {
   "cell_type": "code",
   "execution_count": null,
   "metadata": {
    "ExecuteTime": {
     "end_time": "2022-02-07T13:55:04.126263Z",
     "start_time": "2022-02-07T13:55:04.019391Z"
    }
   },
   "outputs": [],
   "source": [
    "def MeanIoU(y_pred:Tensor, y_true:Tensor, **kwargs): return IOU(y_pred, y_true, classes=len(codes), **kwargs)\n",
    "\n",
    "MeanIoU.__repr__ = \"MeanIoU\""
   ]
  },
  {
   "cell_type": "markdown",
   "metadata": {},
   "source": [
    "# Dataset"
   ]
  },
  {
   "cell_type": "code",
   "execution_count": null,
   "metadata": {},
   "outputs": [],
   "source": [
    "def label_func(fn): \n",
    "    return fn.parent.parent/f\"{fn.parent.stem.replace('images', 'masks')}/{fn.stem}_mask.png\"\n",
    "\n",
    "def get_data_df(imgs_path):\n",
    "    fnames = get_image_files(imgs_path)\n",
    "    \n",
    "    data = pd.DataFrame(dict(img_file=fnames))\n",
    "    data.loc[:, 'mask_file'] = data['img_file'].apply(label_func)\n",
    "    \n",
    "    np.random.seed(1)\n",
    "    valid_idxs = np.random.choice(np.arange(1, len(data)), int(0.2*len(data)))\n",
    "    data.loc[:, 'is_valid'] = False\n",
    "    data.loc[valid_idxs, 'is_valid'] = True\n",
    "    return data "
   ]
  },
  {
   "cell_type": "code",
   "execution_count": null,
   "metadata": {
    "ExecuteTime": {
     "end_time": "2022-02-07T13:55:08.474169Z",
     "start_time": "2022-02-07T13:55:05.523757Z"
    }
   },
   "outputs": [],
   "source": [
    "df = get_data_df(path/\"journal_resized/images_journal_resized\")\n",
    "df"
   ]
  },
  {
   "cell_type": "code",
   "execution_count": null,
   "metadata": {
    "ExecuteTime": {
     "end_time": "2022-02-07T14:02:00.792019Z",
     "start_time": "2022-02-07T14:02:00.689806Z"
    }
   },
   "outputs": [],
   "source": [
    "df['is_valid'].value_counts()"
   ]
  },
  {
   "cell_type": "code",
   "execution_count": null,
   "metadata": {
    "ExecuteTime": {
     "end_time": "2022-02-07T14:35:23.667059Z",
     "start_time": "2022-02-07T14:35:23.505103Z"
    }
   },
   "outputs": [],
   "source": [
    "db = DataBlock(blocks = (ImageBlock, MaskBlock(codes)),\n",
    "               get_x = ColReader('img_file'),\n",
    "               get_y = ColReader('mask_file'),\n",
    "               splitter = ColSplitter(col='is_valid'),\n",
    "               item_tfms = [Resize((512, 512))],\n",
    "               batch_tfms = [*aug_transforms(), Normalize.from_stats(*imagenet_stats)])\n",
    " \n",
    "dls = db.dataloaders(df, bs=2, tfm_y=True)"
   ]
  },
  {
   "cell_type": "markdown",
   "metadata": {},
   "source": [
    "# Train"
   ]
  },
  {
   "cell_type": "code",
   "execution_count": null,
   "metadata": {
    "ExecuteTime": {
     "end_time": "2022-02-07T14:46:25.920451Z",
     "start_time": "2022-02-07T14:40:01.210208Z"
    }
   },
   "outputs": [],
   "source": [
    "learn = unet_learner(dls, resnet34, metrics=[MeanIoU])\n",
    "learn.fine_tune(6, base_lr=1e-2)"
   ]
  },
  {
   "cell_type": "code",
   "execution_count": null,
   "metadata": {
    "ExecuteTime": {
     "end_time": "2022-02-07T15:05:24.909524Z",
     "start_time": "2022-02-07T14:52:18.999845Z"
    }
   },
   "outputs": [],
   "source": [
    "learn.unfreeze()\n",
    "learn.fit_one_cycle(15, lr_max=1e-2)"
   ]
  },
  {
   "cell_type": "code",
   "execution_count": null,
   "metadata": {},
   "outputs": [],
   "source": []
  }
 ],
 "metadata": {
  "interpreter": {
   "hash": "66e70eaec70040e47e54cf1acea0bb19505800f0a29593c2aa3ef8643cd15d2f"
  },
  "kernelspec": {
   "display_name": "fastai",
   "language": "python",
   "name": "fastai"
  },
  "language_info": {
   "codemirror_mode": {
    "name": "ipython",
    "version": 3
   },
   "file_extension": ".py",
   "mimetype": "text/x-python",
   "name": "python",
   "nbconvert_exporter": "python",
   "pygments_lexer": "ipython3",
   "version": "3.9.9"
  },
  "toc": {
   "base_numbering": 1,
   "nav_menu": {},
   "number_sections": true,
   "sideBar": true,
   "skip_h1_title": false,
   "title_cell": "Table of Contents",
   "title_sidebar": "Contents",
   "toc_cell": false,
   "toc_position": {},
   "toc_section_display": true,
   "toc_window_display": false
  }
 },
 "nbformat": 4,
 "nbformat_minor": 4
}
